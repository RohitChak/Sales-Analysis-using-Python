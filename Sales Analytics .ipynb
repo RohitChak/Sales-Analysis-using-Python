{
 "cells": [
  {
   "cell_type": "code",
   "execution_count": 11,
   "id": "cace7376",
   "metadata": {},
   "outputs": [],
   "source": [
    "import pandas as pd"
   ]
  },
  {
   "cell_type": "code",
   "execution_count": 12,
   "id": "4aba260a",
   "metadata": {},
   "outputs": [
    {
     "name": "stdout",
     "output_type": "stream",
     "text": [
      "   Row ID         Order ID Order Date  Ship Date     Ship Mode Customer ID  \\\n",
      "0   32298   CA-2012-124891 2012-07-31 2012-07-31      Same Day    RH-19495   \n",
      "1   26341    IN-2013-77878 2013-02-05 2013-02-07  Second Class    JR-16210   \n",
      "2   25330    IN-2013-71249 2013-10-17 2013-10-18   First Class    CR-12730   \n",
      "3   13524  ES-2013-1579342 2013-01-28 2013-01-30   First Class    KM-16375   \n",
      "4   47221     SG-2013-4320 2013-11-05 2013-11-06      Same Day     RH-9495   \n",
      "\n",
      "      Customer Name      Segment           City            State  ...  \\\n",
      "0       Rick Hansen     Consumer  New York City         New York  ...   \n",
      "1     Justin Ritter    Corporate     Wollongong  New South Wales  ...   \n",
      "2      Craig Reiter     Consumer       Brisbane       Queensland  ...   \n",
      "3  Katherine Murray  Home Office         Berlin           Berlin  ...   \n",
      "4       Rick Hansen     Consumer          Dakar            Dakar  ...   \n",
      "\n",
      "         Product ID    Category Sub-Category  \\\n",
      "0   TEC-AC-10003033  Technology  Accessories   \n",
      "1   FUR-CH-10003950   Furniture       Chairs   \n",
      "2   TEC-PH-10004664  Technology       Phones   \n",
      "3   TEC-PH-10004583  Technology       Phones   \n",
      "4  TEC-SHA-10000501  Technology      Copiers   \n",
      "\n",
      "                                        Product Name     Sales Quantity  \\\n",
      "0  Plantronics CS510 - Over-the-Head monaural Wir...  2309.650        7   \n",
      "1          Novimex Executive Leather Armchair, Black  3709.395        9   \n",
      "2                  Nokia Smart Phone, with Caller ID  5175.171        9   \n",
      "3                     Motorola Smart Phone, Cordless  2892.510        5   \n",
      "4                     Sharp Wireless Fax, High-Speed  2832.960        8   \n",
      "\n",
      "  Discount    Profit  Shipping Cost  Order Priority  \n",
      "0      0.0  762.1845         933.57        Critical  \n",
      "1      0.1 -288.7650         923.63        Critical  \n",
      "2      0.1  919.9710         915.49          Medium  \n",
      "3      0.1  -96.5400         910.16          Medium  \n",
      "4      0.0  311.5200         903.04        Critical  \n",
      "\n",
      "[5 rows x 24 columns]\n"
     ]
    }
   ],
   "source": [
    "# Load the Excel file\n",
    "file_path = 'ECOMM DATA.xlsx'\n",
    "orders_df = pd.read_excel(file_path, sheet_name='Orders')\n",
    "\n",
    "# Display the first few rows of the dataframe\n",
    "print(orders_df.head())"
   ]
  },
  {
   "cell_type": "code",
   "execution_count": 14,
   "id": "db5b126d",
   "metadata": {},
   "outputs": [
    {
     "name": "stdout",
     "output_type": "stream",
     "text": [
      "Total Sales: $12642501.91\n"
     ]
    }
   ],
   "source": [
    "# Calculate total sales\n",
    "total_sales = orders_df['Sales'].sum()\n",
    "print(f\"Total Sales: ${total_sales:.2f}\")\n"
   ]
  },
  {
   "cell_type": "code",
   "execution_count": 16,
   "id": "6075e9fc",
   "metadata": {},
   "outputs": [
    {
     "name": "stdout",
     "output_type": "stream",
     "text": [
      "    Year  Month         Sales\n",
      "0   2011      1   98898.48886\n",
      "1   2011      2   91152.15698\n",
      "2   2011      3  145729.36736\n",
      "3   2011      4  116915.76418\n",
      "4   2011      5  146747.83610\n",
      "5   2011      6  215207.38022\n",
      "6   2011      7  115510.41912\n",
      "7   2011      8  207581.49122\n",
      "8   2011      9  290214.45534\n",
      "9   2011     10  199071.26404\n",
      "10  2011     11  298496.53752\n",
      "11  2011     12  333925.73460\n",
      "12  2012      1  135780.72024\n",
      "13  2012      2  100510.21698\n",
      "14  2012      3  163076.77116\n",
      "15  2012      4  161052.26952\n",
      "16  2012      5  208364.89124\n",
      "17  2012      6  256175.69842\n",
      "18  2012      7  145236.78512\n",
      "19  2012      8  303142.94238\n",
      "20  2012      9  289389.16564\n",
      "21  2012     10  252939.85020\n",
      "22  2012     11  323512.41690\n",
      "23  2012     12  338256.96660\n",
      "24  2013      1  199185.90738\n",
      "25  2013      2  167239.65040\n",
      "26  2013      3  198594.03012\n",
      "27  2013      4  177821.31684\n",
      "28  2013      5  260498.56470\n",
      "29  2013      6  396519.61190\n",
      "30  2013      7  229928.95200\n",
      "31  2013      8  326488.78936\n",
      "32  2013      9  376619.24568\n",
      "33  2013     10  293406.64288\n",
      "34  2013     11  373989.36010\n",
      "35  2013     12  405454.37802\n",
      "36  2014      1  241268.55566\n",
      "37  2014      2  184837.35556\n",
      "38  2014      3  263100.77262\n",
      "39  2014      4  242771.86130\n",
      "40  2014      5  288401.04614\n",
      "41  2014      6  401814.06310\n",
      "42  2014      7  258705.68048\n",
      "43  2014      8  456619.94236\n",
      "44  2014      9  481157.24370\n",
      "45  2014     10  422766.62916\n",
      "46  2014     11  555279.02700\n",
      "47  2014     12  503143.69348\n"
     ]
    }
   ],
   "source": [
    "# Convert 'Order Date' to datetime format\n",
    "orders_df['Order Date'] = pd.to_datetime(orders_df['Order Date'])\n",
    "\n",
    "# Extract year and month from the 'Order Date'\n",
    "orders_df['Year'] = orders_df['Order Date'].dt.year\n",
    "orders_df['Month'] = orders_df['Order Date'].dt.month\n",
    "\n",
    "# Group by year and month and sum the sales\n",
    "sales_trends = orders_df.groupby(['Year', 'Month'])['Sales'].sum().reset_index()\n",
    "\n",
    "# Display the sales trends\n",
    "print(sales_trends)\n"
   ]
  },
  {
   "cell_type": "code",
   "execution_count": 17,
   "id": "04e7fd96",
   "metadata": {},
   "outputs": [
    {
     "data": {
      "text/html": [
       "<div>\n",
       "<style scoped>\n",
       "    .dataframe tbody tr th:only-of-type {\n",
       "        vertical-align: middle;\n",
       "    }\n",
       "\n",
       "    .dataframe tbody tr th {\n",
       "        vertical-align: top;\n",
       "    }\n",
       "\n",
       "    .dataframe thead th {\n",
       "        text-align: right;\n",
       "    }\n",
       "</style>\n",
       "<table border=\"1\" class=\"dataframe\">\n",
       "  <thead>\n",
       "    <tr style=\"text-align: right;\">\n",
       "      <th></th>\n",
       "      <th>Year</th>\n",
       "      <th>Month</th>\n",
       "      <th>Sales</th>\n",
       "    </tr>\n",
       "  </thead>\n",
       "  <tbody>\n",
       "    <tr>\n",
       "      <th>0</th>\n",
       "      <td>2011</td>\n",
       "      <td>1</td>\n",
       "      <td>98898.48886</td>\n",
       "    </tr>\n",
       "    <tr>\n",
       "      <th>1</th>\n",
       "      <td>2011</td>\n",
       "      <td>2</td>\n",
       "      <td>91152.15698</td>\n",
       "    </tr>\n",
       "    <tr>\n",
       "      <th>2</th>\n",
       "      <td>2011</td>\n",
       "      <td>3</td>\n",
       "      <td>145729.36736</td>\n",
       "    </tr>\n",
       "    <tr>\n",
       "      <th>3</th>\n",
       "      <td>2011</td>\n",
       "      <td>4</td>\n",
       "      <td>116915.76418</td>\n",
       "    </tr>\n",
       "    <tr>\n",
       "      <th>4</th>\n",
       "      <td>2011</td>\n",
       "      <td>5</td>\n",
       "      <td>146747.83610</td>\n",
       "    </tr>\n",
       "  </tbody>\n",
       "</table>\n",
       "</div>"
      ],
      "text/plain": [
       "   Year  Month         Sales\n",
       "0  2011      1   98898.48886\n",
       "1  2011      2   91152.15698\n",
       "2  2011      3  145729.36736\n",
       "3  2011      4  116915.76418\n",
       "4  2011      5  146747.83610"
      ]
     },
     "execution_count": 17,
     "metadata": {},
     "output_type": "execute_result"
    }
   ],
   "source": [
    "# Convert 'Order Date' to datetime format\n",
    "orders_df['Order Date'] = pd.to_datetime(orders_df['Order Date'])\n",
    "\n",
    "# Extract year and month from the 'Order Date'\n",
    "orders_df['Year'] = orders_df['Order Date'].dt.year\n",
    "orders_df['Month'] = orders_df['Order Date'].dt.month\n",
    "\n",
    "# Group by year and month and sum the sales\n",
    "sales_trends = orders_df.groupby(['Year', 'Month'])['Sales'].sum().reset_index()\n",
    "\n",
    "# Display the sales trends\n",
    "sales_trends.head()\n"
   ]
  },
  {
   "cell_type": "code",
   "execution_count": 19,
   "id": "b7f5bfb2",
   "metadata": {},
   "outputs": [
    {
     "data": {
      "text/html": [
       "<div>\n",
       "<style scoped>\n",
       "    .dataframe tbody tr th:only-of-type {\n",
       "        vertical-align: middle;\n",
       "    }\n",
       "\n",
       "    .dataframe tbody tr th {\n",
       "        vertical-align: top;\n",
       "    }\n",
       "\n",
       "    .dataframe thead th {\n",
       "        text-align: right;\n",
       "    }\n",
       "</style>\n",
       "<table border=\"1\" class=\"dataframe\">\n",
       "  <thead>\n",
       "    <tr style=\"text-align: right;\">\n",
       "      <th></th>\n",
       "      <th>Product Name</th>\n",
       "      <th>Sales</th>\n",
       "    </tr>\n",
       "  </thead>\n",
       "  <tbody>\n",
       "    <tr>\n",
       "      <th>310</th>\n",
       "      <td>Apple Smart Phone, Full Size</td>\n",
       "      <td>86935.7786</td>\n",
       "    </tr>\n",
       "    <tr>\n",
       "      <th>970</th>\n",
       "      <td>Cisco Smart Phone, Full Size</td>\n",
       "      <td>76441.5306</td>\n",
       "    </tr>\n",
       "    <tr>\n",
       "      <th>2415</th>\n",
       "      <td>Motorola Smart Phone, Full Size</td>\n",
       "      <td>73156.3030</td>\n",
       "    </tr>\n",
       "    <tr>\n",
       "      <th>2501</th>\n",
       "      <td>Nokia Smart Phone, Full Size</td>\n",
       "      <td>71904.5555</td>\n",
       "    </tr>\n",
       "    <tr>\n",
       "      <th>866</th>\n",
       "      <td>Canon imageCLASS 2200 Advanced Copier</td>\n",
       "      <td>61599.8240</td>\n",
       "    </tr>\n",
       "    <tr>\n",
       "      <th>...</th>\n",
       "      <td>...</td>\n",
       "      <td>...</td>\n",
       "    </tr>\n",
       "    <tr>\n",
       "      <th>2112</th>\n",
       "      <td>KitchenAid Stove, Black</td>\n",
       "      <td>19549.8842</td>\n",
       "    </tr>\n",
       "    <tr>\n",
       "      <th>1885</th>\n",
       "      <td>Hon Swivel Stool, Black</td>\n",
       "      <td>19536.6396</td>\n",
       "    </tr>\n",
       "    <tr>\n",
       "      <th>2012</th>\n",
       "      <td>Ikea Library with Doors, Mobile</td>\n",
       "      <td>19259.0630</td>\n",
       "    </tr>\n",
       "    <tr>\n",
       "      <th>1231</th>\n",
       "      <td>Eldon Lockers, Blue</td>\n",
       "      <td>19255.3236</td>\n",
       "    </tr>\n",
       "    <tr>\n",
       "      <th>1498</th>\n",
       "      <td>GBC Ibimaster 500 Manual ProClick Binding System</td>\n",
       "      <td>19024.5000</td>\n",
       "    </tr>\n",
       "  </tbody>\n",
       "</table>\n",
       "<p>100 rows × 2 columns</p>\n",
       "</div>"
      ],
      "text/plain": [
       "                                          Product Name       Sales\n",
       "310                       Apple Smart Phone, Full Size  86935.7786\n",
       "970                       Cisco Smart Phone, Full Size  76441.5306\n",
       "2415                   Motorola Smart Phone, Full Size  73156.3030\n",
       "2501                      Nokia Smart Phone, Full Size  71904.5555\n",
       "866              Canon imageCLASS 2200 Advanced Copier  61599.8240\n",
       "...                                                ...         ...\n",
       "2112                           KitchenAid Stove, Black  19549.8842\n",
       "1885                           Hon Swivel Stool, Black  19536.6396\n",
       "2012                   Ikea Library with Doors, Mobile  19259.0630\n",
       "1231                               Eldon Lockers, Blue  19255.3236\n",
       "1498  GBC Ibimaster 500 Manual ProClick Binding System  19024.5000\n",
       "\n",
       "[100 rows x 2 columns]"
      ]
     },
     "execution_count": 19,
     "metadata": {},
     "output_type": "execute_result"
    }
   ],
   "source": [
    "# Group by product and sum the sales\n",
    "best_selling_products = orders_df.groupby('Product Name')['Sales'].sum().reset_index()\n",
    "\n",
    "# Sort the products by sales in descending order\n",
    "best_selling_products = best_selling_products.sort_values(by='Sales', ascending=False)\n",
    "\n",
    "# Display the top 10 best-selling products\n",
    "best_selling_products.head(10)\n"
   ]
  },
  {
   "cell_type": "code",
   "execution_count": 20,
   "id": "a3c40804",
   "metadata": {},
   "outputs": [
    {
     "data": {
      "image/png": "[encoded data removed]",
      "text/plain": [
       "<Figure size 432x288 with 1 Axes>"
      ]
     },
     "metadata": {
      "needs_background": "light"
     },
     "output_type": "display_data"
    }
   ],
   "source": [
    "import matplotlib.pyplot as plt\n",
    "\n",
    "# Create a pivot table for easier plotting\n",
    "sales_trends_pivot = sales_trends.pivot(index='Month', columns='Year', values='Sales')\n",
    "\n",
    "# Plot the sales trends\n",
    "sales_trends_pivot.plot(kind='line', marker='o')\n",
    "plt.title('Monthly Sales Trends Over Years')\n",
    "plt.xlabel('Month')\n",
    "plt.ylabel('Sales')\n",
    "plt.legend(title='Year')\n",
    "plt.grid(True)\n",
    "plt.show()\n"
   ]
  },
  {
   "cell_type": "code",
   "execution_count": null,
   "id": "6d9dde36",
   "metadata": {},
   "outputs": [],
   "source": []
  }
 ],
 "metadata": {
  "kernelspec": {
   "display_name": "Python 3 (ipykernel)",
   "language": "python",
   "name": "python3"
  },
  "language_info": {
   "codemirror_mode": {
    "name": "ipython",
    "version": 3
   },
   "file_extension": ".py",
   "mimetype": "text/x-python",
   "name": "python",
   "nbconvert_exporter": "python",
   "pygments_lexer": "ipython3",
   "version": "3.9.12"
  }
 },
 "nbformat": 4,
 "nbformat_minor": 5
}
